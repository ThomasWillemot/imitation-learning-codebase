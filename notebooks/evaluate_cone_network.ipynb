{
 "cells": [
  {
   "cell_type": "code",
   "execution_count": 1,
   "metadata": {},
   "outputs": [],
   "source": [
    "import numpy as np\n",
    "import cv2\n",
    "import torch\n",
    "from src.sim.ros.python3_ros_ws.src.handcrafted_cone_detection.helper_files.ArchitectureConfig import ArchitectureConfig\n",
    "from src.sim.ros.python3_ros_ws.src.handcrafted_cone_detection.helper_files import cnn_architecture\n",
    "from glob import glob\n",
    "import os\n",
    "import matplotlib.pyplot as plt\n",
    "import time"
   ]
  },
  {
   "cell_type": "code",
   "execution_count": 3,
   "metadata": {},
   "outputs": [],
   "source": [
    "def put_model_on_device(device: str = None):\n",
    "    original_model_device = net.get_device()\n",
    "    torch.device(device)"
   ]
  },
  {
   "cell_type": "code",
   "execution_count": 4,
   "metadata": {},
   "outputs": [],
   "source": [
    "def downsample_image(image, factor=1):\n",
    "    img = np.array(image, dtype='float32')\n",
    "    img = torch.from_numpy(img.reshape(1, 1, img.shape[0], img.shape[1]))  # Convert grayscale image to tensor\n",
    "    maxPool = torch.nn.AvgPool2d(factor)  # 4*4 window, maximum pooling with a step size of 4\n",
    "    img_tensor = maxPool(img)\n",
    "    img = torch.squeeze(img_tensor)  # Remove the dimension of 1\n",
    "    img = img.numpy().astype('uint8')  # Conversion format, ready to output\n",
    "    return img_tensor, img"
   ]
  },
  {
   "cell_type": "code",
   "execution_count": 252,
   "metadata": {},
   "outputs": [],
   "source": []
  },
  {
   "cell_type": "code",
   "execution_count": 5,
   "metadata": {},
   "outputs": [],
   "source": [
    "def load_checkpoint(checkpoint_dir: str):\n",
    "    if not checkpoint_dir.endswith('torch_checkpoints'):\n",
    "        checkpoint_dir += '/torch_checkpoints'\n",
    "    if len(glob(f'{checkpoint_dir}/*.ckpt')) == 0 and len(glob(f'{checkpoint_dir}/torch_checkpoints/*.ckpt')) == 0:\n",
    "        raise FileNotFoundError\n",
    "    # Get checkpoint in following order\n",
    "    if os.path.isfile(os.path.join(checkpoint_dir, 'checkpoint_best.ckpt')):\n",
    "        checkpoint_file = os.path.join(checkpoint_dir, 'checkpoint_best.ckpt')\n",
    "    elif os.path.isfile(os.path.join(checkpoint_dir, 'checkpoint_latest.ckpt')):\n",
    "        checkpoint_file = os.path.join(checkpoint_dir, 'checkpoint_latest.ckpt')\n",
    "    else:\n",
    "        checkpoints = {int(f.split('.')[0].split('_')[-1]): os.path.join(checkpoint_dir, f)\n",
    "                       for f in os.listdir(checkpoint_dir)}\n",
    "        checkpoint_file = checkpoints[max(checkpoints.keys())]\n",
    "    # Load params for each experiment element\n",
    "    checkpoint = torch.load(checkpoint_file, map_location=torch.device('cpu'))\n",
    "    epoch = checkpoint['epoch'] if 'epoch' in checkpoint.keys() else 0\n",
    "    for element, key in zip([net, trainer, environment],\n",
    "                            ['net_ckpt', 'trainer_ckpt', 'environment_ckpt']):\n",
    "        if element is not None and key in checkpoint.keys():\n",
    "            element.load_checkpoint(checkpoint[key])\n",
    "    print('checkpoint loaded')"
   ]
  },
  {
   "cell_type": "code",
   "execution_count": 6,
   "metadata": {},
   "outputs": [],
   "source": [
    "def eval_neural_net(image):\n",
    "    predictions = net.forward(image, train=False)\n",
    "    np_pred = predictions.detach().numpy()\n",
    "    return np_pred[0]"
   ]
  },
  {
   "cell_type": "code",
   "execution_count": 99,
   "metadata": {},
   "outputs": [
    {
     "name": "stdout",
     "output_type": "stream",
     "text": [
      "cnn_architecture - INFO - Started.\n",
      "checkpoint loaded\n",
      "1\n"
     ]
    },
    {
     "name": "stderr",
     "output_type": "stream",
     "text": [
      "Clipping input data to the valid range for imshow with RGB data ([0..1] for floats or [0..255] for integers).\n"
     ]
    },
    {
     "name": "stdout",
     "output_type": "stream",
     "text": [
      "image test:\n",
      "1.276061916503906\n",
      "[ 3.189598    0.51013994 -1.4692924   5.5905247   1.3636389  -0.37082303]\n",
      "[ 4.46566  0.76034 -0.40679  6.38991  2.00182  0.8475 ]\n",
      "fps_average: 232.1918339057438\n",
      "average error x: 0.6097521400508882m\n",
      "average error y: 0.4481987383877039m\n",
      "average error z: 0.3988720430792809m\n",
      "average error x: 1.270063421824264m\n",
      "average error y: 0.9966151702133892m\n",
      "average error z: 0.6934941810116285m\n",
      "error bias: -0.5410779986861748 dependant on distance: 0.4137722942204767\n"
     ]
    },
    {
     "data": {
      "image/png": "[encoded data removed]",
      "text/plain": [
       "<Figure size 432x288 with 1 Axes>"
      ]
     },
     "metadata": {
      "needs_background": "light"
     },
     "output_type": "display_data"
    }
   ],
   "source": [
    "text_file_path = '/media/thomas/Elements/experimental_data/model_evaluation_handcrafted/data_collection_gazebo/raw_data/21-05-12_12-05-55/action.data'\n",
    "#text_file_path = '/media/thomas/Elements/experimental_data/model_evaluation_handcrafted_single_cone/data_collection_gazebo/raw_data/21-05-12_20-28-33/action.data'\n",
    "image_base_path = '/media/thomas/Elements/experimental_data/model_evaluation_handcrafted/data_collection_gazebo/raw_data/21-05-12_12-05-55/observation/'\n",
    "#image_base_path = '/media/thomas/Elements/experimental_data/model_evaluation_handcrafted_single_cone/data_collection_gazebo/raw_data/21-05-12_20-28-33/observation/'\n",
    "#text_file_path = '/media/thomas/Elements/experimental_data/200_res/data_collection_gazebo/raw_data/21-04-09_15-51-25/action.data'\n",
    "#image_base_path = '/media/thomas/Elements/experimental_data/200_res/data_collection_gazebo/raw_data/21-04-09_15-51-25/observation/'\n",
    "#image_base_path = '/media/thomas/Elements/experimental_data/200_res/data_collection_gazebo/raw_data/21-04-09_16-01-53/observation/'\n",
    "#text_file_path = '/media/thomas/Elements/experimental_data/200_res/data_collection_gazebo/raw_data/21-04-09_16-01-53/action.data'\n",
    "\n",
    "#text_file_path = '/media/thomas/Elements/experimental_data/model_evaluation_handcrafted_30_cone/data_collection_gazebo/raw_data/21-05-12_20-54-01/action.data'\n",
    "#image_base_path = '/media/thomas/Elements/experimental_data/model_evaluation_handcrafted_30_cone/data_collection_gazebo/raw_data/21-05-12_20-54-01/observation/'\n",
    "\n",
    "error_x = []\n",
    "total_error_x = 0\n",
    "total_error_y = 0\n",
    "total_error_z = 0\n",
    "total_error_x_1 = 0\n",
    "total_error_y_1 = 0\n",
    "total_error_z_1 = 0\n",
    "nb_images = 200\n",
    "tune_factor = 500\n",
    "total_time = 0\n",
    "distance_x = []\n",
    "trainer = None\n",
    "environment = None\n",
    "architecture_config = ArchitectureConfig()\n",
    "net = eval('cnn_architecture').Net(config=architecture_config) \\\n",
    "            if architecture_config is not None else None\n",
    "load_checkpoint('/media/thomas/Elements/training_nn/res_200/6100_lr_0002')\n",
    "put_model_on_device('cuda')\n",
    "time_start =time.time()\n",
    "total_time = 0\n",
    "with open(text_file_path) as f:\n",
    "    for image_idx in range(nb_images):\n",
    "        ground_truth = f.readline().split()[2:8]\n",
    "        ground_truth_np = np.array([float(ground_truth[0]),float(ground_truth[1]),float(ground_truth[2]),float(ground_truth[3]),float(ground_truth[4]),float(ground_truth[5])])\n",
    "        \n",
    "        #print(ground_truth_np)\n",
    "        image_path = image_base_path+str(image_idx).zfill(15)+'.jpg'\n",
    "        image = cv2.imread(image_path,-1)\n",
    "        time_start = time.time()\n",
    "        \n",
    "        \n",
    "        if np.amax(image) == 255:\n",
    "            image_pr =image/255\n",
    "        else:\n",
    "            image_pr = image\n",
    "        image_pr = noise_creation(image_pr)\n",
    "        \n",
    "        dwn_image_tens,dwn_image = downsample_image(image_pr,4)\n",
    "        \n",
    "        world_coor = eval_neural_net(dwn_image_tens)\n",
    "        total_time +=(time.time()-time_start)\n",
    "        #plt.imshow(dwn_image)\n",
    "        #print(world_coor)\n",
    "        current_error = abs(np.subtract(world_coor[0],ground_truth_np[0]))\n",
    "        if image_idx in [1]:\n",
    "            print(image_idx)\n",
    "            cv2.imwrite('/media/thomas/Elements/test.png',dwn_image*255)\n",
    "        else:\n",
    "            distance_x.append(ground_truth_np[0])\n",
    "            error_x.append(current_error)\n",
    "            #total_error += current_error\n",
    "            total_error_x += abs(np.subtract(world_coor[0],ground_truth_np[0]))\n",
    "            total_error_y += abs(np.subtract(world_coor[1],ground_truth_np[1]))\n",
    "            total_error_z += abs(np.subtract(world_coor[2],ground_truth_np[2]))\n",
    "            total_error_x_1 += abs(np.subtract(world_coor[3],ground_truth_np[3]))\n",
    "            total_error_y_1 += abs(np.subtract(world_coor[4],ground_truth_np[4]))\n",
    "            total_error_z_1 += abs(np.subtract(world_coor[5],ground_truth_np[5]))\n",
    "        if image_idx == :\n",
    "            #plt.imshow(dwn_image*255,cmap='gray',vmax=255,vmin=0)\n",
    "            print('image test:')\n",
    "            print(current_error)\n",
    "            print(world_coor)\n",
    "            print(ground_truth_np)\n",
    "            prop_image = np.zeros((800,848,3))\n",
    "            prop_image[:,:,0] = image_pr*255\n",
    "            prop_image[:,:,1] = image_pr*255\n",
    "            prop_image[:,:,2] = image_pr*255\n",
    "            np_pred = world_coor\n",
    "            scaling_factor = 1\n",
    "\n",
    "            x_position = int(-np_pred[1] / np_pred[0] * 505.3/scaling_factor + 424.5/scaling_factor)\n",
    "            y_position = int(-np_pred[2] / np_pred[0] * 505.3/scaling_factor + 400.5/scaling_factor)\n",
    "            cv2.circle(prop_image, (x_position,y_position), int(50/np_pred[0]/scaling_factor), (255,0,0), 2)\n",
    "            x_position_1 = int(-np_pred[4] / np_pred[3] * 505.3/scaling_factor + 424.5/scaling_factor)\n",
    "            y_position_1 = int(-np_pred[5] / np_pred[3] * 505.3/scaling_factor + 400.5/scaling_factor)\n",
    "            cv2.circle(prop_image, (x_position_1,y_position_1), int(abs(50/np_pred[3]/scaling_factor)), (255,0,0), 2)\n",
    "            plt.imshow(prop_image)\n",
    "            cv2.imwrite('/media/thomas/Elements/befor_2.png',prop_image)\n",
    "        #print(error)\n",
    "print('fps_average: '+ str(nb_images/(total_time)))\n",
    "gradient,intercept = np.polyfit(distance_x,error_x,1)\n",
    "x1=np.linspace(1,5,500)\n",
    "y1=gradient*x1+intercept\n",
    "x = np.linspace(1,len(error_x),len(error_x))\n",
    "\n",
    "plt.plot(x,error_x,'yo', x1, y1, '--k')\n",
    "average_error_x = total_error_x/nb_images\n",
    "average_error_y = total_error_y/nb_images\n",
    "average_error_z = total_error_z/nb_images\n",
    "average_error_x_1 = total_error_x_1/nb_images\n",
    "average_error_y_1 = total_error_y_1/nb_images\n",
    "average_error_z_1 = total_error_z_1/nb_images\n",
    "print('average error x: '+str(average_error_x)+'m')\n",
    "print('average error y: '+str(average_error_y)+'m')\n",
    "print('average error z: '+str(average_error_z)+'m')\n",
    "print('average error x: '+str(average_error_x_1)+'m')\n",
    "print('average error y: '+str(average_error_y_1)+'m')\n",
    "print('average error z: '+str(average_error_z_1)+'m')\n",
    "print('error bias: '+str(intercept) +' dependant on distance: '+ str(gradient))"
   ]
  },
  {
   "cell_type": "code",
   "execution_count": 8,
   "metadata": {},
   "outputs": [
    {
     "data": {
      "image/png": "[encoded data removed]",
      "text/plain": [
       "<Figure size 432x288 with 1 Axes>"
      ]
     },
     "metadata": {
      "needs_background": "light"
     },
     "output_type": "display_data"
    },
    {
     "name": "stdout",
     "output_type": "stream",
     "text": [
      "nan\n"
     ]
    },
    {
     "name": "stderr",
     "output_type": "stream",
     "text": [
      "/usr/local/lib/python3.8/dist-packages/numpy/core/_methods.py:233: RuntimeWarning: Degrees of freedom <= 0 for slice\n",
      "  ret = _var(a, axis=axis, dtype=dtype, out=out, ddof=ddof,\n",
      "/usr/local/lib/python3.8/dist-packages/numpy/core/_methods.py:194: RuntimeWarning: invalid value encountered in true_divide\n",
      "  arrmean = um.true_divide(\n",
      "/usr/local/lib/python3.8/dist-packages/numpy/core/_methods.py:226: RuntimeWarning: invalid value encountered in double_scalars\n",
      "  ret = ret.dtype.type(ret / rcount)\n"
     ]
    }
   ],
   "source": [
    "plt.hist(error_x, bins = 50)\n",
    "plt.show()\n",
    "print(np.std(error_x))"
   ]
  },
  {
   "cell_type": "code",
   "execution_count": 52,
   "metadata": {},
   "outputs": [
    {
     "name": "stdout",
     "output_type": "stream",
     "text": [
      "(200, 212)\n",
      "255\n",
      "cnn_architecture - INFO - Started.\n",
      "checkpoint loaded\n",
      "[ 2.6314826   0.76101875 -1.2527726   4.595373    1.0169867  -0.55408764]\n"
     ]
    },
    {
     "data": {
      "text/plain": [
       "<matplotlib.image.AxesImage at 0x7f9f0691fd60>"
      ]
     },
     "execution_count": 52,
     "metadata": {},
     "output_type": "execute_result"
    },
    {
     "data": {
      "image/png": "[encoded data removed]",
      "text/plain": [
       "<Figure size 432x288 with 1 Axes>"
      ]
     },
     "metadata": {
      "needs_background": "light"
     },
     "output_type": "display_data"
    }
   ],
   "source": [
    "path ='/media/thomas/Elements/experimental_data/200_res/data_collection_gazebo/raw_data/21-04-09_16-01-53/observation/000000000000197.jpg'\n",
    "prop_image = cv2.imread(path,-1)\n",
    "print(prop_image.shape)\n",
    "print(np.amax(prop_image))\n",
    "cv2.rectangle(prop_image,(40,140),(41,160),(255),1)\n",
    "#cv2.circle(prop_image, (100,100), 5, 255, 5)\n",
    "#cv2.circle(prop_image, (100,150), 1, 255, 5)\n",
    "#cv2.circle(prop_image, (100,150), 15, 255, 20)\n",
    "#prop_image[0:50,:] = 0\n",
    "\n",
    "trainer = None\n",
    "environment = None\n",
    "architecture_config = ArchitectureConfig()\n",
    "net = eval('cnn_architecture').Net(config=architecture_config) \\\n",
    "            if architecture_config is not None else None\n",
    "load_checkpoint('/media/thomas/Elements/training_nn/res_200/6100_lr_0002')\n",
    "put_model_on_device('cuda')\n",
    "netwr_image = prop_image/255\n",
    "dwn_image_tens,dwn_image = (downsample_image(netwr_image,1))\n",
    "np_pred = eval_neural_net(dwn_image_tens)\n",
    "\n",
    "print(np_pred)\n",
    "plt.imshow(prop_image,cmap='gray')\n",
    "scaling_factor = 4\n",
    "x_position = int(-np_pred[1] / np_pred[0] * 505.3/scaling_factor + 424.5/scaling_factor)\n",
    "y_position = int(-np_pred[2] / np_pred[0] * 505.3/scaling_factor + 400.5/scaling_factor)\n",
    "cv2.circle(prop_image, (x_position,y_position), int(50/np_pred[0]/scaling_factor), 150, int(15/scaling_factor))\n",
    "x_position_1 = int(-np_pred[4] / np_pred[3] * 505.3/scaling_factor + 424.5/scaling_factor)\n",
    "y_position_1 = int(-np_pred[5] / np_pred[3] * 505.3/scaling_factor + 400.5/scaling_factor)\n",
    "cv2.circle(prop_image, (x_position_1,y_position_1), int(abs(50/np_pred[3]/scaling_factor)), 150, int(15/scaling_factor))\n",
    "\n",
    "plt.imshow(prop_image,cmap='gray')"
   ]
  },
  {
   "cell_type": "code",
   "execution_count": 77,
   "metadata": {},
   "outputs": [],
   "source": [
    "def noise_creation(image):\n",
    "    [width,height] = image.shape\n",
    "    x = int(np.random.rand()*width)\n",
    "    y = int(np.random.rand()*height)\n",
    "    length = int(np.random.rand()*50)\n",
    "    bre = int(np.random.rand()*50)\n",
    "    cv2.rectangle(image,(x,y),(x+length,y+bre),1,4)\n",
    "    return image"
   ]
  },
  {
   "cell_type": "code",
   "execution_count": 11,
   "metadata": {},
   "outputs": [
    {
     "ename": "SyntaxError",
     "evalue": "invalid syntax (<ipython-input-11-8ebce0e3f7d4>, line 4)",
     "output_type": "error",
     "traceback": [
      "\u001b[0;36m  File \u001b[0;32m\"<ipython-input-11-8ebce0e3f7d4>\"\u001b[0;36m, line \u001b[0;32m4\u001b[0m\n\u001b[0;31m    estimation_single_cone = np.array([1.0788105  -0.16984475  0.13799319 3.3793888  -1.0458415   1.0864222])\u001b[0m\n\u001b[0m                                                               ^\u001b[0m\n\u001b[0;31mSyntaxError\u001b[0m\u001b[0;31m:\u001b[0m invalid syntax\n"
     ]
    }
   ],
   "source": [
    "gr_th = np.array([1.09099, -0.18821, 0.10408, 2.83883, -0.47011, 1.13297])\n",
    "\n",
    "estimation_clean_original = np.array([ 1.0994427,  -0.22244957,  0.13334689,  2.7808475,  -0.54785246,  0.88644224])\n",
    "estimation_single_cone = np.array([1.0788105  -0.16984475  0.13799319 3.3793888  -1.0458415   1.0864222])\n",
    "estim_with_cirlce = np.array([1.0008508,  -0.12048292,  0.26899752,  2.391978,   -0.49274975,  1.1117944])\n",
    "\n"
   ]
  },
  {
   "cell_type": "code",
   "execution_count": 7,
   "metadata": {},
   "outputs": [
    {
     "data": {
      "text/plain": [
       "True"
      ]
     },
     "execution_count": 7,
     "metadata": {},
     "output_type": "execute_result"
    },
    {
     "data": {
      "image/png": "[encoded data removed]",
      "text/plain": [
       "<Figure size 432x288 with 1 Axes>"
      ]
     },
     "metadata": {
      "needs_background": "light"
     },
     "output_type": "display_data"
    }
   ],
   "source": [
    "image_tf = cv2.imread('/media/thomas/Elements/after_2.png')\n",
    "plt.imshow(image_tf)\n",
    "cv2.imwrite('/media/thomas/Elements/after_2.png', cv2.cvtColor(image_tf, cv2.COLOR_RGB2BGR))"
   ]
  }
 ],
 "metadata": {
  "kernelspec": {
   "display_name": "Python 3",
   "language": "python",
   "name": "python3"
  },
  "language_info": {
   "codemirror_mode": {
    "name": "ipython",
    "version": 3
   },
   "file_extension": ".py",
   "mimetype": "text/x-python",
   "name": "python",
   "nbconvert_exporter": "python",
   "pygments_lexer": "ipython3",
   "version": "3.8.6"
  }
 },
 "nbformat": 4,
 "nbformat_minor": 4
}
