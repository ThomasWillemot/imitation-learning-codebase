{
 "cells": [
  {
   "cell_type": "code",
   "execution_count": 95,
   "metadata": {},
   "outputs": [],
   "source": [
    "import numpy as np\n",
    "import cv2\n",
    "import matplotlib.pyplot as plt"
   ]
  },
  {
   "cell_type": "code",
   "execution_count": 100,
   "metadata": {},
   "outputs": [],
   "source": [
    "def get_cone_2d_location(bin_im):\n",
    "    row_sum = np.sum(bin_im, axis=1)\n",
    "    i = 0\n",
    "\n",
    "    while row_sum[i] > 1 and i < 799:\n",
    "        bin_im[i, :] = np.zeros(848)\n",
    "        i += 1\n",
    "\n",
    "    airrow = 0\n",
    "    for row_idx in range(799):\n",
    "        if row_sum[row_idx] > 400 * 255:\n",
    "            airrow = row_idx\n",
    "    bin_im[1:airrow, :] = 0\n",
    "    row_sum = np.sum(bin_im, axis=1)\n",
    "    cone_found = False\n",
    "    cone_row = 0\n",
    "    max_row = 0\n",
    "    row = 799  # start where no drone parts are visible in image\n",
    "    cone_started = False\n",
    "    while not cone_found and row >= 0:\n",
    "        if row_sum[row] >= max_row and row_sum[row] > 4 * 255:\n",
    "            cone_row = row\n",
    "            max_row = row_sum[row]\n",
    "            cone_started = True\n",
    "        elif cone_started:\n",
    "            cone_found = True\n",
    "        row -= 1\n",
    "\n",
    "    current_start = 0\n",
    "    max_start = 0\n",
    "    max_width = 0\n",
    "    current_width = 0\n",
    "    for col_index in range(847):\n",
    "        if bin_im[cone_row, col_index] == 0:\n",
    "            if current_width > max_width:\n",
    "                max_width = current_width\n",
    "                max_start = current_start\n",
    "            current_width = 0\n",
    "            current_start = 0\n",
    "        else:\n",
    "            if current_width == 0:\n",
    "                current_start = col_index\n",
    "            current_width += 1\n",
    "    if current_width>max_width:\n",
    "        max_width = current_width\n",
    "        max_start = current_start\n",
    "            \n",
    "    return [max_start + int(np.ceil(max_width / 2)) - 424, -cone_row + 400, max_width]"
   ]
  },
  {
   "cell_type": "code",
   "execution_count": 101,
   "metadata": {},
   "outputs": [],
   "source": [
    "def get_cone_3d_location(cone_width_px, cone_width_m, conetop_coor, tune_factor):\n",
    "    x_cor = 0\n",
    "    y_cor = 0\n",
    "    z_cor = -1  # do not update if z remains -1 TODO\n",
    "    if cone_width_px > 0:  # only updates when cone detected\n",
    "        # position relative to the camera in meters.\n",
    "        z_cor = cone_width_m * tune_factor / cone_width_px\n",
    "        x_cor = conetop_coor[0] * z_cor / tune_factor\n",
    "        y_cor = conetop_coor[1] * z_cor / tune_factor\n",
    "    return np.array([z_cor, -x_cor, y_cor])"
   ]
  },
  {
   "cell_type": "code",
   "execution_count": 153,
   "metadata": {},
   "outputs": [],
   "source": [
    "def noise_creation(image,amount):\n",
    "    [width,height] = image.shape\n",
    "    for i in range(amount):\n",
    "        x = int(np.random.rand()*width)\n",
    "        y = int(np.random.rand()*height)\n",
    "        image[x,y] = 1\n",
    "    return image"
   ]
  },
  {
   "cell_type": "code",
   "execution_count": 167,
   "metadata": {},
   "outputs": [
    {
     "name": "stdout",
     "output_type": "stream",
     "text": [
      "9\n",
      "19\n",
      "29\n",
      "35\n",
      "36\n",
      "46\n",
      "81\n",
      "84\n",
      "132\n",
      "140\n",
      "162\n",
      "165\n"
     ]
    },
    {
     "name": "stderr",
     "output_type": "stream",
     "text": [
      "Clipping input data to the valid range for imshow with RGB data ([0..1] for floats or [0..255] for integers).\n"
     ]
    },
    {
     "name": "stdout",
     "output_type": "stream",
     "text": [
      "188\n",
      "198\n",
      "[ 2.8125   0.05625 -1.94625]\n",
      "[ 2.55134  0.13495 -2.18995]\n",
      "199\n",
      "fps_average: 271.9848363556544\n",
      "average error x: 0.6778013499999996m\n",
      "average error y: 0.64066295m\n",
      "average error z: 1.3405414499999995m\n",
      "error bias: 0.5748617556428665 dependant on distance: 0.055921510154245846\n"
     ]
    },
    {
     "data": {
      "image/png": "[encoded data removed]",
      "text/plain": [
       "<Figure size 432x288 with 1 Axes>"
      ]
     },
     "metadata": {
      "needs_background": "light"
     },
     "output_type": "display_data"
    }
   ],
   "source": [
    "#TEST 1 normal \n",
    "text_file_path = '/media/thomas/Elements/experimental_data/model_evaluation_handcrafted/data_collection_gazebo/raw_data/21-05-12_12-05-55/action.data'\n",
    "image_base_path = '/media/thomas/Elements/experimental_data/model_evaluation_handcrafted/data_collection_gazebo/raw_data/21-05-12_12-05-55/observation/'\n",
    "outliers_1 = [9,19,29,35,36,46,81,84,132,140,162,165,188,199,198]\n",
    "\n",
    "#Test 2 single cone\n",
    "#text_file_path = '/media/thomas/Elements/experimental_data/model_evaluation_handcrafted_single_cone/data_collection_gazebo/raw_data/21-05-12_20-28-33/action.data'\n",
    "#image_base_path = '/media/thomas/Elements/experimental_data/model_evaluation_handcrafted_single_cone/data_collection_gazebo/raw_data/21-05-12_20-28-33/observation/'\n",
    "#outliers_2 = [1,22,65,108,124,150,162,172,178]\n",
    "\n",
    "#Test 3 30cones\n",
    "\n",
    "#text_file_path = '/media/thomas/Elements/experimental_data/model_evaluation_handcrafted_30_cone/data_collection_gazebo/raw_data/21-05-12_20-54-01/action.data'\n",
    "image_base_path = '/media/thomas/Elements/experimental_data/model_evaluation_handcrafted_30_cone/data_collection_gazebo/raw_data/21-05-12_20-54-01/observation/'\n",
    "error_x = []\n",
    "nb_images = 200\n",
    "tune_factor = 500\n",
    "total_error_x = 0\n",
    "total_error_y = 0\n",
    "total_error_z = 0\n",
    "distance_x = []\n",
    "total_time = 0\n",
    "with open(text_file_path) as f:\n",
    "    for image_idx in range(nb_images):\n",
    "        ground_truth = f.readline().split()[2:5]\n",
    "        ground_truth_np = np.array([float(ground_truth[0]),float(ground_truth[1]),float(ground_truth[2])])\n",
    "        \n",
    "        #print(ground_truth_np)\n",
    "        image_path = image_base_path+str(image_idx).zfill(15)+'.jpg'\n",
    "        image = cv2.imread(image_path,-1)\n",
    "        #image_pr = noise_creation(image,5000)\n",
    "        #image_pr = image\n",
    "        #plt.imshow(image,cmap='gray',vmax=255,vmin=0)\n",
    "        time_start = time.time()\n",
    "        image_coord = get_cone_2d_location(image_pr)\n",
    "        world_coor = get_cone_3d_location(image_coord[2],0.18,image_coord[0:2],tune_factor)\n",
    "        total_time +=(time.time()-time_start)\n",
    "        #print(world_coor)\n",
    "        current_error = abs(np.subtract(world_coor[0],ground_truth_np[0]))\n",
    "        #if current_error>1:\n",
    "        #    print(image_idx)\n",
    "            #print(current_error)\n",
    "            #print(world_coor)\n",
    "            #print(ground_truth_np)\n",
    "        if image_idx in outliers_1:\n",
    "            print(image_idx)\n",
    "        else:\n",
    "            total_error_x += abs(np.subtract(world_coor[0],ground_truth_np[0]))\n",
    "            total_error_y += abs(np.subtract(world_coor[1],ground_truth_np[1]))\n",
    "            total_error_z += abs(np.subtract(world_coor[2],ground_truth_np[2]))\n",
    "            distance_x.append(ground_truth_np[0])\n",
    "            error_x.append(current_error)\n",
    "        total_error += current_error\n",
    "        if image_idx == 198:\n",
    "            #print('image 84:')\n",
    "            #print(current_error)\n",
    "            print(world_coor)\n",
    "            print(ground_truth_np)\n",
    "            prop_image = np.zeros((800,848,3))\n",
    "            prop_image[:,:,0] = image\n",
    "            prop_image[:,:,1] = image\n",
    "            prop_image[:,:,2] = image\n",
    "            np_pred = world_coor\n",
    "            scaling_factor = 1\n",
    "            x_position = int(-np_pred[1] / np_pred[0] * 505.3/scaling_factor + 424.5/scaling_factor)\n",
    "            y_position = int(-np_pred[2] / np_pred[0] * 505.3/scaling_factor + 400.5/scaling_factor)\n",
    "            cv2.circle(prop_image, (x_position,y_position), int(50/np_pred[0]/scaling_factor), (255,0,0), 2)\n",
    "            plt.imshow(prop_image)\n",
    "        #print(error)\n",
    "print('fps_average: '+ str(nb_images/(total_time)))\n",
    "gradient,intercept = np.polyfit(distance_x,error_x,1)\n",
    "x1=np.linspace(1,5,500)\n",
    "y1=gradient*x1+intercept\n",
    "plt.plot(distance_x,error_x,'yo', x1, y1, '--k')\n",
    "average_error_x = total_error_x/nb_images\n",
    "average_error_y = total_error_y/nb_images\n",
    "average_error_z = total_error_z/nb_images\n",
    "print('average error x: '+str(average_error_x)+'m')\n",
    "print('average error y: '+str(average_error_y)+'m')\n",
    "print('average error z: '+str(average_error_z)+'m')\n",
    "print('error bias: '+str(intercept) +' dependant on distance: '+ str(gradient))"
   ]
  }
 ],
 "metadata": {
  "kernelspec": {
   "display_name": "Python 3",
   "language": "python",
   "name": "python3"
  },
  "language_info": {
   "codemirror_mode": {
    "name": "ipython",
    "version": 3
   },
   "file_extension": ".py",
   "mimetype": "text/x-python",
   "name": "python",
   "nbconvert_exporter": "python",
   "pygments_lexer": "ipython3",
   "version": "3.8.6"
  }
 },
 "nbformat": 4,
 "nbformat_minor": 4
}
