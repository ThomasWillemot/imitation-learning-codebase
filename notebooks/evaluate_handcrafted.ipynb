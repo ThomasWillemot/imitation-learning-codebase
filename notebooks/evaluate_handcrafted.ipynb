{
 "cells": [
  {
   "cell_type": "code",
   "execution_count": 8,
   "metadata": {},
   "outputs": [],
   "source": [
    "import numpy as np\n",
    "import cv2\n",
    "import matplotlib.pyplot as plt"
   ]
  },
  {
   "cell_type": "code",
   "execution_count": 17,
   "metadata": {},
   "outputs": [],
   "source": [
    "def get_cone_2d_location(bin_im):\n",
    "    row_sum = np.sum(bin_im, axis=1)\n",
    "    i = 0\n",
    "\n",
    "    while row_sum[i] > 1 and i < 799:\n",
    "        bin_im[i, :] = np.zeros(848)\n",
    "        i += 1\n",
    "\n",
    "    airrow = 0\n",
    "    for row_idx in range(799):\n",
    "        if row_sum[row_idx] > 400 * 255:\n",
    "            airrow = row_idx\n",
    "    bin_im[1:airrow, :] = 0\n",
    "    row_sum = np.sum(bin_im, axis=1)\n",
    "    cone_found = False\n",
    "    cone_row = 0\n",
    "    max_row = 0\n",
    "    row = 799  # start where no drone parts are visible in image\n",
    "    cone_started = False\n",
    "    while not cone_found and row >= 0:\n",
    "        if row_sum[row] >= max_row and row_sum[row] > 4 * 255:\n",
    "            cone_row = row\n",
    "            max_row = row_sum[row]\n",
    "            cone_started = True\n",
    "        elif cone_started:\n",
    "            cone_found = True\n",
    "        row -= 1\n",
    "\n",
    "    current_start = 0\n",
    "    max_start = 0\n",
    "    max_width = 0\n",
    "    current_width = 0\n",
    "    for col_index in range(847):\n",
    "        if bin_im[cone_row, col_index] == 0:\n",
    "            if current_width > max_width:\n",
    "                max_width = current_width\n",
    "                max_start = current_start\n",
    "            current_width = 0\n",
    "            current_start = 0\n",
    "        else:\n",
    "            if current_start == 0:\n",
    "                current_start = col_index\n",
    "            current_width += 1\n",
    "    return [max_start + int(np.ceil(max_width / 2)) - 424, -cone_row + 400, max_width]"
   ]
  },
  {
   "cell_type": "code",
   "execution_count": 48,
   "metadata": {},
   "outputs": [],
   "source": [
    "def get_cone_3d_location(cone_width_px, cone_width_m, conetop_coor, tune_factor):\n",
    "    x_cor = 0\n",
    "    y_cor = 0\n",
    "    z_cor = -1  # do not update if z remains -1 TODO\n",
    "    if cone_width_px > 0:  # only updates when cone detected\n",
    "        # position relative to the camera in meters.\n",
    "        z_cor = cone_width_m * tune_factor / cone_width_px\n",
    "        x_cor = conetop_coor[0] * z_cor / tune_factor\n",
    "        y_cor = conetop_coor[1] * z_cor / tune_factor\n",
    "    return np.array([z_cor, -x_cor, y_cor])"
   ]
  },
  {
   "cell_type": "code",
   "execution_count": 96,
   "metadata": {},
   "outputs": [
    {
     "name": "stdout",
     "output_type": "stream",
     "text": [
      "[-211, -209, 31]\n",
      "9\n",
      "1.425745806451613\n",
      "[-158, -399, 25]\n",
      "19\n",
      "1.7892400000000002\n",
      "[409, -201, 1]\n",
      "29\n",
      "87.55939\n",
      "[221, -316, 23]\n",
      "35\n",
      "1.4715034782608698\n",
      "[-285, 48, 8]\n",
      "36\n",
      "9.214739999999999\n",
      "[-284, 204, 14]\n",
      "46\n",
      "3.892711428571429\n",
      "[-207, -322, 31]\n",
      "81\n",
      "1.340415806451613\n",
      "[292, 76, 8]\n",
      "84\n",
      "8.375820000000001\n",
      "[-313, 98, 8]\n",
      "123\n",
      "8.2088\n",
      "[-176, 18, 9]\n",
      "140\n",
      "7.1699\n",
      "[287, -215, 31]\n",
      "162\n",
      "1.155835806451613\n",
      "[383, 76, 14]\n",
      "165\n",
      "2.315011428571429\n",
      "[93, -399, 23]\n",
      "188\n",
      "2.3190434782608698\n",
      "[396, -287, 23]\n",
      "193\n",
      "1.7966334782608695\n",
      "[-35, -245, 25]\n",
      "199\n",
      "1.49357\n"
     ]
    },
    {
     "data": {
      "text/plain": [
       "[<matplotlib.lines.Line2D at 0x7fc67b3b8580>,\n",
       " <matplotlib.lines.Line2D at 0x7fc67b3b85b0>]"
      ]
     },
     "execution_count": 96,
     "metadata": {},
     "output_type": "execute_result"
    },
    {
     "data": {
      "image/png": "[encoded data removed]",
      "text/plain": [
       "<Figure size 432x288 with 1 Axes>"
      ]
     },
     "metadata": {
      "needs_background": "light"
     },
     "output_type": "display_data"
    }
   ],
   "source": [
    "text_file_path = '/media/thomas/Elements/experimental_data/model_evaluation_handcrafted/data_collection_gazebo/raw_data/21-05-12_12-05-55/action.data'\n",
    "image_base_path = '/media/thomas/Elements/experimental_data/model_evaluation_handcrafted/data_collection_gazebo/raw_data/21-05-12_12-05-55/observation/'\n",
    "error_x = []\n",
    "nb_images = 200\n",
    "tune_factor = 500\n",
    "distance_x = []\n",
    "with open(text_file_path) as f:\n",
    "    for image_idx in range(nb_images):\n",
    "        ground_truth = f.readline().split()[2:5]\n",
    "        ground_truth_np = np.array([float(ground_truth[0]),float(ground_truth[1]),float(ground_truth[2])])\n",
    "        \n",
    "        #print(ground_truth_np)\n",
    "        image_path = image_base_path+str(image_idx).zfill(15)+'.jpg'\n",
    "        image = cv2.imread(image_path,-1)\n",
    "        #plt.imshow(image,cmap='gray',vmax=255,vmin=0)\n",
    "        image_coord = get_cone_2d_location(image)\n",
    "        world_coor = get_cone_3d_location(image_coord[2],0.18,image_coord[0:2],tune_factor)\n",
    "        #print(world_coor)\n",
    "        current_error = abs(np.subtract(world_coor[0],ground_truth_np[0]))\n",
    "        if current_error>.5*ground_truth_np[0]:\n",
    "            print(image_coord)\n",
    "            print(image_idx)\n",
    "            print(current_error)\n",
    "        else:\n",
    "            distance_x.append(ground_truth_np[0])\n",
    "            error_x.append(current_error)\n",
    "        #print(error)\n",
    "gradient,intercept = np.polyfit(distance_x,error_x,1)\n",
    "poly1d_fn = np.poly1d(coef)\n",
    "x1=np.linspace(1,5,500)\n",
    "y1=gradient*x1+intercept\n",
    "plt.plot(distance_x,error_x,'yo', x1, y1, '--k')"
   ]
  }
 ],
 "metadata": {
  "kernelspec": {
   "display_name": "Python 3",
   "language": "python",
   "name": "python3"
  },
  "language_info": {
   "codemirror_mode": {
    "name": "ipython",
    "version": 3
   },
   "file_extension": ".py",
   "mimetype": "text/x-python",
   "name": "python",
   "nbconvert_exporter": "python",
   "pygments_lexer": "ipython3",
   "version": "3.8.6"
  }
 },
 "nbformat": 4,
 "nbformat_minor": 4
}
