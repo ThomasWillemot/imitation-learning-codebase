{
 "cells": [
  {
   "cell_type": "code",
   "execution_count": 3,
   "metadata": {},
   "outputs": [],
   "source": [
    "import cv2\n",
    "import matplotlib.pyplot as plt\n",
    "import time\n",
    "import numpy as np\n",
    "import scipy.signal\n",
    "import torch"
   ]
  },
  {
   "cell_type": "code",
   "execution_count": 2,
   "metadata": {},
   "outputs": [
    {
     "name": "stdout",
     "output_type": "stream",
     "text": [
      "Error opening file\n"
     ]
    }
   ],
   "source": [
    "vid_path = 'cone_rgb.mp4'\n",
    "image_save_path = '/media/thomas/Elements/Thesis_temp_data/Bebob_data'\n",
    "kernel = np.ones((7, 7), np.uint8)\n",
    "counter = 0\n",
    "cap = cv2.VideoCapture(vid_path)\n",
    "if(cap.isOpened() == False):\n",
    "    print(\"Error opening file\")\n",
    "while(cap.isOpened()):\n",
    "    ret, frame = cap.read()\n",
    "    if ret == True:\n",
    "        RGB_img = cv2.cvtColor(frame, cv2.COLOR_BGR2RGB)\n",
    "        threshold = 210\n",
    "        binary_image = cv2.threshold(RGB_img[:,:,0], threshold, 1, cv2.ADAPTIVE_THRESH_MEAN_C)\n",
    "        filtered_np_gray = cv2.morphologyEx(binary_image[1], cv2.MORPH_OPEN, kernel)\n",
    "        \n",
    "        save_image = filtered_np_gray[int(1080/2-500):int(1080/2+500),int(1920/2-530):int(1920/2+530)]\n",
    "        save_image = downsample_image(image=save_image,factor=5)\n",
    "        print(save_image.shape)\n",
    "        plt.imshow(save_image,cmap='gray')\n",
    "        cv2.imwrite(str(counter)+'.jpg',save_image*255)\n",
    "        counter +=1\n",
    "    else:\n",
    "        print('end of stream')\n",
    "        break\n",
    "    if cv2.waitKey(1) == ord('q'):\n",
    "        break\n",
    "cap.release()\n"
   ]
  },
  {
   "cell_type": "code",
   "execution_count": 21,
   "metadata": {},
   "outputs": [
    {
     "data": {
      "text/plain": [
       "True"
      ]
     },
     "execution_count": 21,
     "metadata": {},
     "output_type": "execute_result"
    },
    {
     "data": {
      "image/png": "[encoded data removed]",
      "text/plain": [
       "<Figure size 432x288 with 1 Axes>"
      ]
     },
     "metadata": {
      "needs_background": "light"
     },
     "output_type": "display_data"
    }
   ],
   "source": [
    "img_path = '/media/thomas/Elements/Thesis_temp_data/all_pics/49_1.jpg'\n",
    "image = cv2.imread(img_path)\n",
    "threshold = 160\n",
    "binary_image = cv2.threshold(image, threshold, 255, cv2.ADAPTIVE_THRESH_MEAN_C)\n",
    "plt.imshow(binary_image[1],cmap='gray')\n",
    "cv2.imwrite('/media/thomas/Elements/underexposed.png',binary_image[1])\n"
   ]
  },
  {
   "cell_type": "code",
   "execution_count": 17,
   "metadata": {},
   "outputs": [],
   "source": [
    "def downsample_image(image, factor=1):\n",
    "        img = np.array(image, dtype='float32')\n",
    "        img = torch.from_numpy(img.reshape(1, 1, img.shape[0], img.shape[1]))  # Convert grayscale image to tensor\n",
    "        maxPool = torch.nn.AvgPool2d(factor)  # 4*4 window, maximum pooling with a step size of 4\n",
    "        img_tensor = maxPool(img)\n",
    "        img = torch.squeeze(img_tensor)  # Remove the dimension of 1\n",
    "        img = img.numpy().astype('uint8')  # Conversion format, ready to output\n",
    "        return img"
   ]
  }
 ],
 "metadata": {
  "kernelspec": {
   "display_name": "Python 3",
   "language": "python",
   "name": "python3"
  },
  "language_info": {
   "codemirror_mode": {
    "name": "ipython",
    "version": 3
   },
   "file_extension": ".py",
   "mimetype": "text/x-python",
   "name": "python",
   "nbconvert_exporter": "python",
   "pygments_lexer": "ipython3",
   "version": "3.8.6"
  }
 },
 "nbformat": 4,
 "nbformat_minor": 4
}
